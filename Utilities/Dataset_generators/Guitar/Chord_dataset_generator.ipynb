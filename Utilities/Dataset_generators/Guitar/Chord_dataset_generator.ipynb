{
 "cells": [
  {
   "cell_type": "code",
   "execution_count": 1,
   "metadata": {},
   "outputs": [],
   "source": [
    "import numpy as np\n",
    "import pandas as pd\n",
    "import matplotlib.pyplot as plt\n",
    "import librosa\n",
    "from tqdm import tqdm_notebook as tqdm\n",
    "import os\n",
    "import IPython.display as ipd"
   ]
  },
  {
   "cell_type": "code",
   "execution_count": 2,
   "metadata": {},
   "outputs": [
    {
     "name": "stderr",
     "output_type": "stream",
     "text": [
      "Using TensorFlow backend.\n"
     ]
    }
   ],
   "source": [
    "%run ../../Utilities.ipynb"
   ]
  },
  {
   "cell_type": "markdown",
   "metadata": {},
   "source": [
    "## Indidual notes"
   ]
  },
  {
   "cell_type": "code",
   "execution_count": 3,
   "metadata": {},
   "outputs": [],
   "source": [
    "note_table = pd.read_csv(\"../../../Data/Piano/Note_table.tsv\", header=0, sep=\"\\t\")"
   ]
  },
  {
   "cell_type": "code",
   "execution_count": 4,
   "metadata": {},
   "outputs": [],
   "source": [
    "start_8 = note_table[note_table[\"Note\"] == \"E1\"].index[0]\n",
    "start_7 = note_table[note_table[\"Note\"] == \"B1\"].index[0]\n",
    "start_6 = note_table[note_table[\"Note\"] == \"E2\"].index[0]\n",
    "start_5 = note_table[note_table[\"Note\"] == \"A2\"].index[0]\n",
    "start_4 = note_table[note_table[\"Note\"] == \"D3\"].index[0]\n",
    "start_3 = note_table[note_table[\"Note\"] == \"G3\"].index[0]\n",
    "start_2 = note_table[note_table[\"Note\"] == \"B3\"].index[0]\n",
    "start_1 = note_table[note_table[\"Note\"] == \"E4\"].index[0]"
   ]
  },
  {
   "cell_type": "code",
   "execution_count": 5,
   "metadata": {},
   "outputs": [],
   "source": [
    "strings = {\n",
    "    \"8\": note_table[\"Note\"].iloc[start_8:start_8+25].values,\n",
    "    \"7\": note_table[\"Note\"].iloc[start_7:start_7+25].values,\n",
    "    \"6\": note_table[\"Note\"].iloc[start_6:start_6+25].values,\n",
    "    \"5\": note_table[\"Note\"].iloc[start_5:start_5+25].values,\n",
    "    \"4\": note_table[\"Note\"].iloc[start_4:start_4+25].values,\n",
    "    \"3\": note_table[\"Note\"].iloc[start_3:start_3+25].values,\n",
    "    \"2\": note_table[\"Note\"].iloc[start_2:start_2+25].values,\n",
    "    \"1\": note_table[\"Note\"].iloc[start_1:start_1+25].values\n",
    "}"
   ]
  },
  {
   "cell_type": "code",
   "execution_count": 6,
   "metadata": {},
   "outputs": [],
   "source": [
    "def file_to_data(file, rs, samples, note_table):\n",
    "    y, sr = librosa.load(file, mono=False)\n",
    "    y = librosa.core.to_mono(y)\n",
    "    y = librosa.resample(y, sr, rs)\n",
    "\n",
    "    df = pd.DataFrame(columns=[\"Notes\", \"String\", \"x\"])\n",
    "    string = file.split(\"/\")[-1].split(\"_\")[2][-1]\n",
    "    string_notes = strings[string]\n",
    "\n",
    "    if int(string) <= 6:\n",
    "        for i in range(0, len(y), 4000):\n",
    "            x = y[i:i+4000]\n",
    "            x = x[np.argwhere(x >= 0.001)[0][0]:]\n",
    "            notes = np.ones(6) * 25\n",
    "            notes[int(string)-1] = i//4000\n",
    "            df = pd.concat([df, pd.DataFrame({\"Notes\": [notes.astype(int)], \"String\": [string], \"x\": [x]})])\n",
    "        df = df.reset_index(drop=True)\n",
    "    return df"
   ]
  },
  {
   "cell_type": "code",
   "execution_count": 7,
   "metadata": {},
   "outputs": [],
   "source": [
    "test = file_to_data(\"../../../Samples/Guitar/Ind_notes/Guitar_noamp_string6_10.mp3\", 8000, 500, note_table)"
   ]
  },
  {
   "cell_type": "code",
   "execution_count": 8,
   "metadata": {},
   "outputs": [
    {
     "data": {
      "text/html": [
       "<div>\n",
       "<style scoped>\n",
       "    .dataframe tbody tr th:only-of-type {\n",
       "        vertical-align: middle;\n",
       "    }\n",
       "\n",
       "    .dataframe tbody tr th {\n",
       "        vertical-align: top;\n",
       "    }\n",
       "\n",
       "    .dataframe thead th {\n",
       "        text-align: right;\n",
       "    }\n",
       "</style>\n",
       "<table border=\"1\" class=\"dataframe\">\n",
       "  <thead>\n",
       "    <tr style=\"text-align: right;\">\n",
       "      <th></th>\n",
       "      <th>Notes</th>\n",
       "      <th>String</th>\n",
       "      <th>x</th>\n",
       "    </tr>\n",
       "  </thead>\n",
       "  <tbody>\n",
       "    <tr>\n",
       "      <th>0</th>\n",
       "      <td>[25, 25, 25, 25, 25, 0]</td>\n",
       "      <td>6</td>\n",
       "      <td>[0.0057153893, 0.01848321, 0.020498423, 0.0222...</td>\n",
       "    </tr>\n",
       "    <tr>\n",
       "      <th>1</th>\n",
       "      <td>[25, 25, 25, 25, 25, 1]</td>\n",
       "      <td>6</td>\n",
       "      <td>[0.06243897, 0.053786274, 0.04054899, 0.025041...</td>\n",
       "    </tr>\n",
       "    <tr>\n",
       "      <th>2</th>\n",
       "      <td>[25, 25, 25, 25, 25, 2]</td>\n",
       "      <td>6</td>\n",
       "      <td>[0.0073347655, 0.013448851, 0.015583859, 0.015...</td>\n",
       "    </tr>\n",
       "    <tr>\n",
       "      <th>3</th>\n",
       "      <td>[25, 25, 25, 25, 25, 3]</td>\n",
       "      <td>6</td>\n",
       "      <td>[0.0059004743, 0.014234349, 0.0087156575, 0.00...</td>\n",
       "    </tr>\n",
       "    <tr>\n",
       "      <th>4</th>\n",
       "      <td>[25, 25, 25, 25, 25, 4]</td>\n",
       "      <td>6</td>\n",
       "      <td>[0.008460975, 0.057885136, 0.09217568, 0.10965...</td>\n",
       "    </tr>\n",
       "  </tbody>\n",
       "</table>\n",
       "</div>"
      ],
      "text/plain": [
       "                     Notes String  \\\n",
       "0  [25, 25, 25, 25, 25, 0]      6   \n",
       "1  [25, 25, 25, 25, 25, 1]      6   \n",
       "2  [25, 25, 25, 25, 25, 2]      6   \n",
       "3  [25, 25, 25, 25, 25, 3]      6   \n",
       "4  [25, 25, 25, 25, 25, 4]      6   \n",
       "\n",
       "                                                   x  \n",
       "0  [0.0057153893, 0.01848321, 0.020498423, 0.0222...  \n",
       "1  [0.06243897, 0.053786274, 0.04054899, 0.025041...  \n",
       "2  [0.0073347655, 0.013448851, 0.015583859, 0.015...  \n",
       "3  [0.0059004743, 0.014234349, 0.0087156575, 0.00...  \n",
       "4  [0.008460975, 0.057885136, 0.09217568, 0.10965...  "
      ]
     },
     "execution_count": 8,
     "metadata": {},
     "output_type": "execute_result"
    }
   ],
   "source": [
    "test.head()"
   ]
  },
  {
   "cell_type": "code",
   "execution_count": 9,
   "metadata": {},
   "outputs": [],
   "source": [
    "def dir_to_data(directory, rs, samples, note_table):\n",
    "    data = pd.DataFrame()\n",
    "    pbar = tqdm(os.listdir(directory))\n",
    "    \n",
    "    for file in pbar:\n",
    "        pbar.set_description(\"Processing %s\" % file)\n",
    "        df = file_to_data(directory + file, rs, samples, note_table)\n",
    "        data = data.append(df)\n",
    "        \n",
    "    data = data.reset_index().drop(\"index\", axis=1)\n",
    "    return data"
   ]
  },
  {
   "cell_type": "code",
   "execution_count": 10,
   "metadata": {},
   "outputs": [
    {
     "data": {
      "application/vnd.jupyter.widget-view+json": {
       "model_id": "3d99619a7db742ec9b6dac46ac659666",
       "version_major": 2,
       "version_minor": 0
      },
      "text/plain": [
       "HBox(children=(IntProgress(value=0, max=287), HTML(value='')))"
      ]
     },
     "metadata": {},
     "output_type": "display_data"
    },
    {
     "name": "stdout",
     "output_type": "stream",
     "text": [
      "\n"
     ]
    }
   ],
   "source": [
    "data = dir_to_data(\"../../../Samples/Guitar/Ind_notes/\", 8000, 500, note_table)"
   ]
  },
  {
   "cell_type": "code",
   "execution_count": 11,
   "metadata": {},
   "outputs": [],
   "source": [
    "def to_spectral(x, samples):\n",
    "    xf = np.zeros((x.shape[0] // samples, samples))\n",
    "    for i in range(0, x.shape[0] - samples, samples):\n",
    "        w = abs(np.fft.fft(x[i:i+samples], n=samples*2))\n",
    "        freqs = np.fft.fftfreq(len(w))\n",
    "        xf[i//samples, :] = w[freqs >= 0]\n",
    "    return xf"
   ]
  },
  {
   "cell_type": "code",
   "execution_count": 20,
   "metadata": {},
   "outputs": [],
   "source": [
    "data[\"x\"] = data[\"x\"].apply(lambda x: np.pad(x, (0, 4000 - x.shape[0]), mode=\"constant\"))"
   ]
  },
  {
   "cell_type": "code",
   "execution_count": 21,
   "metadata": {},
   "outputs": [],
   "source": [
    "data[\"xf\"] = data[\"x\"].apply(lambda x: to_spectral(x, 100))"
   ]
  },
  {
   "cell_type": "code",
   "execution_count": 24,
   "metadata": {},
   "outputs": [
    {
     "data": {
      "text/html": [
       "<div>\n",
       "<style scoped>\n",
       "    .dataframe tbody tr th:only-of-type {\n",
       "        vertical-align: middle;\n",
       "    }\n",
       "\n",
       "    .dataframe tbody tr th {\n",
       "        vertical-align: top;\n",
       "    }\n",
       "\n",
       "    .dataframe thead th {\n",
       "        text-align: right;\n",
       "    }\n",
       "</style>\n",
       "<table border=\"1\" class=\"dataframe\">\n",
       "  <thead>\n",
       "    <tr style=\"text-align: right;\">\n",
       "      <th></th>\n",
       "      <th>Notes</th>\n",
       "      <th>String</th>\n",
       "      <th>x</th>\n",
       "      <th>xf</th>\n",
       "    </tr>\n",
       "  </thead>\n",
       "  <tbody>\n",
       "    <tr>\n",
       "      <th>1863</th>\n",
       "      <td>[25, 25, 13, 25, 25, 25]</td>\n",
       "      <td>3</td>\n",
       "      <td>[0.028514756, -0.025760684, -0.036091104, -0.0...</td>\n",
       "      <td>[[0.01133306697010994, 1.0188106298446655, 0.1...</td>\n",
       "    </tr>\n",
       "    <tr>\n",
       "      <th>4778</th>\n",
       "      <td>[25, 25, 25, 25, 25, 3]</td>\n",
       "      <td>6</td>\n",
       "      <td>[0.0050685033, 0.013935001, 0.020956254, 0.024...</td>\n",
       "      <td>[[0.5353103280067444, 0.36878064274787903, 1.3...</td>\n",
       "    </tr>\n",
       "    <tr>\n",
       "      <th>2402</th>\n",
       "      <td>[25, 25, 2, 25, 25, 25]</td>\n",
       "      <td>3</td>\n",
       "      <td>[0.0013028657, 0.0027251185, 0.00420907, 0.004...</td>\n",
       "      <td>[[0.0029150284826755524, 0.03945070132613182, ...</td>\n",
       "    </tr>\n",
       "    <tr>\n",
       "      <th>3393</th>\n",
       "      <td>[25, 25, 25, 18, 25, 25]</td>\n",
       "      <td>4</td>\n",
       "      <td>[0.029294392, 0.004189732, -0.021477576, -0.04...</td>\n",
       "      <td>[[0.12324074655771255, 0.42871934175491333, 0....</td>\n",
       "    </tr>\n",
       "    <tr>\n",
       "      <th>1090</th>\n",
       "      <td>[25, 15, 25, 25, 25, 25]</td>\n",
       "      <td>2</td>\n",
       "      <td>[0.0025315117, 0.0020110633, 0.00016255114, -0...</td>\n",
       "      <td>[[0.022191518917679787, 0.02076551876962185, 0...</td>\n",
       "    </tr>\n",
       "  </tbody>\n",
       "</table>\n",
       "</div>"
      ],
      "text/plain": [
       "                         Notes String  \\\n",
       "1863  [25, 25, 13, 25, 25, 25]      3   \n",
       "4778   [25, 25, 25, 25, 25, 3]      6   \n",
       "2402   [25, 25, 2, 25, 25, 25]      3   \n",
       "3393  [25, 25, 25, 18, 25, 25]      4   \n",
       "1090  [25, 15, 25, 25, 25, 25]      2   \n",
       "\n",
       "                                                      x  \\\n",
       "1863  [0.028514756, -0.025760684, -0.036091104, -0.0...   \n",
       "4778  [0.0050685033, 0.013935001, 0.020956254, 0.024...   \n",
       "2402  [0.0013028657, 0.0027251185, 0.00420907, 0.004...   \n",
       "3393  [0.029294392, 0.004189732, -0.021477576, -0.04...   \n",
       "1090  [0.0025315117, 0.0020110633, 0.00016255114, -0...   \n",
       "\n",
       "                                                     xf  \n",
       "1863  [[0.01133306697010994, 1.0188106298446655, 0.1...  \n",
       "4778  [[0.5353103280067444, 0.36878064274787903, 1.3...  \n",
       "2402  [[0.0029150284826755524, 0.03945070132613182, ...  \n",
       "3393  [[0.12324074655771255, 0.42871934175491333, 0....  \n",
       "1090  [[0.022191518917679787, 0.02076551876962185, 0...  "
      ]
     },
     "execution_count": 24,
     "metadata": {},
     "output_type": "execute_result"
    }
   ],
   "source": [
    "data.sample(5)"
   ]
  },
  {
   "cell_type": "code",
   "execution_count": 25,
   "metadata": {},
   "outputs": [
    {
     "data": {
      "text/plain": [
       "(5375, 4)"
      ]
     },
     "execution_count": 25,
     "metadata": {},
     "output_type": "execute_result"
    }
   ],
   "source": [
    "data.shape"
   ]
  },
  {
   "cell_type": "code",
   "execution_count": 26,
   "metadata": {},
   "outputs": [],
   "source": [
    "data.to_pickle(\"../../../Data/Guitar/guitar-data-indnotes-500.pkl\")"
   ]
  },
  {
   "cell_type": "markdown",
   "metadata": {},
   "source": [
    "## 2-note chords"
   ]
  },
  {
   "cell_type": "code",
   "execution_count": 3,
   "metadata": {},
   "outputs": [],
   "source": [
    "indnotes = pd.read_pickle(\"../../../Data/Guitar/guitar-data-indnotes-500.pkl\")"
   ]
  },
  {
   "cell_type": "code",
   "execution_count": 8,
   "metadata": {},
   "outputs": [
    {
     "data": {
      "application/vnd.jupyter.widget-view+json": {
       "model_id": "a67dd429ff4043f1955fbb8f928603b5",
       "version_major": 2,
       "version_minor": 0
      },
      "text/plain": [
       "HBox(children=(IntProgress(value=0, max=500), HTML(value='')))"
      ]
     },
     "metadata": {},
     "output_type": "display_data"
    }
   ],
   "source": [
    "data = pd.DataFrame()\n",
    "indnotes = indnotes.sample(500)\n",
    "\n",
    "for index, row in tqdm(indnotes.iterrows(), total=indnotes.shape[0]):\n",
    "    data = pd.concat([data, pd.DataFrame({\"Notes\": [row[\"Notes\"]], \n",
    "                                          \"x\": [np.pad(row[\"x\"], (0, 4000 - row[\"x\"].shape[0]), mode=\"constant\")]})])\n",
    "    temp = pd.DataFrame()\n",
    "    for index2, row2 in indnotes.iterrows():\n",
    "        fret1 = row[\"Notes\"][int(row[\"String\"]) - 1]\n",
    "        fret2 = row2[\"Notes\"][int(row2[\"String\"]) - 1]\n",
    "        if (row[\"String\"] != row2[\"String\"]) and (np.abs(fret1 - fret2) <= 7):\n",
    "            notes = row[\"Notes\"].copy()\n",
    "            notes[int(row2[\"String\"]) - 1] = row2[\"Notes\"][int(row2[\"String\"]) - 1]\n",
    "            x1 = np.pad(row[\"x\"], (0, 4000 - row[\"x\"].shape[0]), mode=\"constant\")\n",
    "            x2 = np.pad(row2[\"x\"], (0, 4000 - row2[\"x\"].shape[0]), mode=\"constant\")\n",
    "            x = x1 + x2\n",
    "            temp = pd.concat([temp, pd.DataFrame({\"Notes\": [notes], \"x\": [x]})])\n",
    "    data = pd.concat([data, temp])\n",
    "data = data.reset_index(drop=True)"
   ]
  },
  {
   "cell_type": "code",
   "execution_count": 9,
   "metadata": {},
   "outputs": [
    {
     "data": {
      "text/plain": [
       "(106898, 2)"
      ]
     },
     "execution_count": 9,
     "metadata": {},
     "output_type": "execute_result"
    }
   ],
   "source": [
    "data.shape"
   ]
  },
  {
   "cell_type": "code",
   "execution_count": 10,
   "metadata": {},
   "outputs": [
    {
     "data": {
      "text/html": [
       "<div>\n",
       "<style scoped>\n",
       "    .dataframe tbody tr th:only-of-type {\n",
       "        vertical-align: middle;\n",
       "    }\n",
       "\n",
       "    .dataframe tbody tr th {\n",
       "        vertical-align: top;\n",
       "    }\n",
       "\n",
       "    .dataframe thead th {\n",
       "        text-align: right;\n",
       "    }\n",
       "</style>\n",
       "<table border=\"1\" class=\"dataframe\">\n",
       "  <thead>\n",
       "    <tr style=\"text-align: right;\">\n",
       "      <th></th>\n",
       "      <th>Notes</th>\n",
       "      <th>x</th>\n",
       "    </tr>\n",
       "  </thead>\n",
       "  <tbody>\n",
       "    <tr>\n",
       "      <th>79671</th>\n",
       "      <td>[12, 6, 25, 25, 25, 25]</td>\n",
       "      <td>[0.17717709, 0.18088004, 0.1559871, 0.03366031...</td>\n",
       "    </tr>\n",
       "    <tr>\n",
       "      <th>18739</th>\n",
       "      <td>[21, 25, 25, 25, 25, 16]</td>\n",
       "      <td>[0.06774381, 0.117443554, 0.06604557, 0.006420...</td>\n",
       "    </tr>\n",
       "    <tr>\n",
       "      <th>97316</th>\n",
       "      <td>[25, 25, 10, 8, 25, 25]</td>\n",
       "      <td>[0.01890809, 0.0180666, 0.009000065, -0.010174...</td>\n",
       "    </tr>\n",
       "    <tr>\n",
       "      <th>30638</th>\n",
       "      <td>[25, 25, 14, 25, 21, 25]</td>\n",
       "      <td>[0.19842254, 0.20835544, 0.11902555, 0.0063857...</td>\n",
       "    </tr>\n",
       "    <tr>\n",
       "      <th>48682</th>\n",
       "      <td>[25, 25, 8, 25, 12, 25]</td>\n",
       "      <td>[0.020632287, 0.08305131, 0.1634053, 0.2121388...</td>\n",
       "    </tr>\n",
       "  </tbody>\n",
       "</table>\n",
       "</div>"
      ],
      "text/plain": [
       "                          Notes  \\\n",
       "79671   [12, 6, 25, 25, 25, 25]   \n",
       "18739  [21, 25, 25, 25, 25, 16]   \n",
       "97316   [25, 25, 10, 8, 25, 25]   \n",
       "30638  [25, 25, 14, 25, 21, 25]   \n",
       "48682   [25, 25, 8, 25, 12, 25]   \n",
       "\n",
       "                                                       x  \n",
       "79671  [0.17717709, 0.18088004, 0.1559871, 0.03366031...  \n",
       "18739  [0.06774381, 0.117443554, 0.06604557, 0.006420...  \n",
       "97316  [0.01890809, 0.0180666, 0.009000065, -0.010174...  \n",
       "30638  [0.19842254, 0.20835544, 0.11902555, 0.0063857...  \n",
       "48682  [0.020632287, 0.08305131, 0.1634053, 0.2121388...  "
      ]
     },
     "execution_count": 10,
     "metadata": {},
     "output_type": "execute_result"
    }
   ],
   "source": [
    "data.sample(5)"
   ]
  },
  {
   "cell_type": "code",
   "execution_count": 14,
   "metadata": {},
   "outputs": [
    {
     "data": {
      "text/html": [
       "\n",
       "                <audio  controls=\"controls\" >\n",
       "                    <source src=\"data:audio/wav;base64,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\" type=\"audio/wav\" />\n",
       "                    Your browser does not support the audio element.\n",
       "                </audio>\n",
       "              "
      ],
      "text/plain": [
       "<IPython.lib.display.Audio object>"
      ]
     },
     "execution_count": 14,
     "metadata": {},
     "output_type": "execute_result"
    }
   ],
   "source": [
    "ipd.Audio(data.sample()[\"x\"].values[0], rate=8000)"
   ]
  },
  {
   "cell_type": "code",
   "execution_count": 15,
   "metadata": {},
   "outputs": [
    {
     "data": {
      "text/plain": [
       "4000.0"
      ]
     },
     "execution_count": 15,
     "metadata": {},
     "output_type": "execute_result"
    }
   ],
   "source": [
    "(data[\"x\"].apply(lambda x: len(x))).mean()"
   ]
  },
  {
   "cell_type": "code",
   "execution_count": 16,
   "metadata": {},
   "outputs": [],
   "source": [
    "def to_spectral(x, samples):\n",
    "    xf = np.zeros((x.shape[0] // samples, samples))\n",
    "    for i in range(0, x.shape[0] - samples, samples):\n",
    "        w = abs(np.fft.fft(x[i:i+samples], n=samples*2))\n",
    "        freqs = np.fft.fftfreq(len(w))\n",
    "        xf[i//samples, :] = w[freqs >= 0]\n",
    "    return xf"
   ]
  },
  {
   "cell_type": "code",
   "execution_count": 17,
   "metadata": {},
   "outputs": [],
   "source": [
    "from tqdm import tqdm as tqdm_regular\n",
    "tqdm_regular.pandas()"
   ]
  },
  {
   "cell_type": "code",
   "execution_count": 18,
   "metadata": {},
   "outputs": [
    {
     "name": "stderr",
     "output_type": "stream",
     "text": [
      "100%|████████████████████████████████| 106898/106898 [01:05<00:00, 1625.01it/s]\n"
     ]
    }
   ],
   "source": [
    "data[\"xf\"] = data[\"x\"].progress_apply(lambda x: to_spectral(x, 100))"
   ]
  },
  {
   "cell_type": "code",
   "execution_count": 19,
   "metadata": {},
   "outputs": [],
   "source": [
    "data = data.sample(25000)"
   ]
  },
  {
   "cell_type": "code",
   "execution_count": 20,
   "metadata": {},
   "outputs": [],
   "source": [
    "data = data.drop(\"x\", axis=1)"
   ]
  },
  {
   "cell_type": "code",
   "execution_count": 21,
   "metadata": {},
   "outputs": [],
   "source": [
    "data.to_pickle(\"../../../Data/Guitar/chords_test.pkl\")"
   ]
  },
  {
   "cell_type": "code",
   "execution_count": null,
   "metadata": {},
   "outputs": [],
   "source": []
  }
 ],
 "metadata": {
  "kernelspec": {
   "display_name": "Python 3",
   "language": "python",
   "name": "python3"
  },
  "language_info": {
   "codemirror_mode": {
    "name": "ipython",
    "version": 3
   },
   "file_extension": ".py",
   "mimetype": "text/x-python",
   "name": "python",
   "nbconvert_exporter": "python",
   "pygments_lexer": "ipython3",
   "version": "3.7.3"
  }
 },
 "nbformat": 4,
 "nbformat_minor": 2
}

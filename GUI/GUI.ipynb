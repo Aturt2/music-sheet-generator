{
 "cells": [
  {
   "cell_type": "markdown",
   "metadata": {},
   "source": [
    "# GUI for tab generation"
   ]
  },
  {
   "cell_type": "code",
   "execution_count": 3,
   "metadata": {},
   "outputs": [
    {
     "name": "stdout",
     "output_type": "stream",
     "text": [
      "WARNING:tensorflow:From c:\\anacondas\\envs\\tfm\\lib\\site-packages\\tensorflow\\python\\framework\\op_def_library.py:263: colocate_with (from tensorflow.python.framework.ops) is deprecated and will be removed in a future version.\n",
      "Instructions for updating:\n",
      "Colocations handled automatically by placer.\n",
      "WARNING:tensorflow:From c:\\anacondas\\envs\\tfm\\lib\\site-packages\\keras\\backend\\tensorflow_backend.py:3445: calling dropout (from tensorflow.python.ops.nn_ops) with keep_prob is deprecated and will be removed in a future version.\n",
      "Instructions for updating:\n",
      "Please use `rate` instead of `keep_prob`. Rate should be set to `rate = 1 - keep_prob`.\n"
     ]
    }
   ],
   "source": [
    "%run Sheet_generator-GUI.ipynb"
   ]
  },
  {
   "cell_type": "code",
   "execution_count": null,
   "metadata": {
    "scrolled": true
   },
   "outputs": [
    {
     "name": "stdout",
     "output_type": "stream",
     "text": [
      "Window will be a boring gray. Try adding call to change_look_and_feel('Dark Blue 3') before your layout definition\n",
      " If you seriously want this gray window and no more nagging, add  change_look_and_feel('DefaultNoMoreNagging') \n",
      "Window will be a boring gray. Try adding call to change_look_and_feel('Dark Blue 3') before your layout definition\n",
      " If you seriously want this gray window and no more nagging, add  change_look_and_feel('DefaultNoMoreNagging') \n",
      "Window will be a boring gray. Try adding call to change_look_and_feel('Dark Blue 3') before your layout definition\n",
      " If you seriously want this gray window and no more nagging, add  change_look_and_feel('DefaultNoMoreNagging') \n"
     ]
    }
   ],
   "source": [
    "import PySimpleGUI as sg\n",
    "\n",
    "# All widgets\n",
    "layout = [\n",
    "    [sg.Text('Input file', size=(15, 1), auto_size_text=False, justification='right'),      \n",
    "    sg.InputText(), sg.FileBrowse(file_types=((\"All files\", \"*.*\"),(\"Audio files\", \".mp3\")))],\n",
    "    [sg.Checkbox('Set bpm (will be estimated otherwise)', default=True, key=\"BPM\")],\n",
    "    [sg.Checkbox('Display tab', default=True, key=\"Display tab\")],\n",
    "    [sg.Checkbox(\"Apply heuristics\", default=True, key=\"Apply heuristics\")],\n",
    "    [sg.Checkbox(\"Create gp5 file\", default=True, key=\"Create gp5 file\")],\n",
    "    [sg.Submit(button_text=\"Run tab generator\")],\n",
    "    [sg.CButton(\"Close\")]\n",
    "]\n",
    "\n",
    "# Main window\n",
    "window = sg.Window('Guitar Tab Generator', layout)\n",
    "\n",
    "# Main loop\n",
    "while True:\n",
    "    button, values = window.Read()\n",
    "    \n",
    "    file_name = values[\"Browse\"]\n",
    "    bpm = None\n",
    "    \n",
    "    # Ask for bpm if option is checked\n",
    "    if values[\"BPM\"] and file_name != \"\":\n",
    "        while bpm == \"\" or bpm is None:\n",
    "            bpm = sg.PopupGetText(\"Enter the file's BPM\", default_text=\"120\")\n",
    "    \n",
    "    # Ask for save location and name of the gp5 file\n",
    "    if values[\"Create gp5 file\"] and file_name != \"\":\n",
    "        gp5_name = sg.PopupGetFile(\"Save generated gp5 file to\", save_as=True, \n",
    "                                   file_types=((\"All files\", \"*.*\"),(\"Guitarpro files\", \".gp5\")),\n",
    "                                   default_extension=\"*.gp5\")\n",
    "        if gp5_name is None:\n",
    "            gp5_name = \"untitled\"\n",
    "        \n",
    "    # Run sheet generator\n",
    "    if bpm is not(None):\n",
    "        SG = sheet_generator(\"../Single_note_models/Guitar/Guitar\", \n",
    "                             \"../Single_note_models/Guitar/Guitar_norm_string\", \n",
    "                             \"../Tempo/tempo_lgbm.txt\",\n",
    "                             bpm=int(bpm))\n",
    "    else:\n",
    "        SG = sheet_generator(\"../Single_note_models/Guitar/Guitar\", \n",
    "                             \"../Single_note_models/Guitar/Guitar_norm_string\", \n",
    "                             \"../Tempo/tempo_lgbm.txt\")\n",
    "        \n",
    "    results = SG.note_extraction(waveform(file_name), False)\n",
    "    sheet = SG.raw_sheet(results, values[\"Apply heuristics\"])\n",
    "    \n",
    "    if values[\"Display tab\"]:\n",
    "        sg.Popup(\"Guitar tab\", SG.display_tablature(sheet), font=(\"Consolas\", 18))\n",
    "        \n",
    "    if values[\"Create gp5 file\"]:\n",
    "        if \".gp5\" not in gp5_name:\n",
    "            gp5_name += \".gp5\"\n",
    "            \n",
    "        SG.create_guitarpro_tab(sheet, gp5_name)\n",
    "\n",
    "window.Close()"
   ]
  },
  {
   "cell_type": "code",
   "execution_count": null,
   "metadata": {},
   "outputs": [],
   "source": []
  }
 ],
 "metadata": {
  "kernelspec": {
   "display_name": "Python 3",
   "language": "python",
   "name": "python3"
  },
  "language_info": {
   "codemirror_mode": {
    "name": "ipython",
    "version": 3
   },
   "file_extension": ".py",
   "mimetype": "text/x-python",
   "name": "python",
   "nbconvert_exporter": "python",
   "pygments_lexer": "ipython3",
   "version": "3.7.3"
  }
 },
 "nbformat": 4,
 "nbformat_minor": 2
}

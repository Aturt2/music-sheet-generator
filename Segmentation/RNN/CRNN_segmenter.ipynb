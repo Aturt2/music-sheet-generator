{
 "cells": [
  {
   "cell_type": "code",
   "execution_count": null,
   "metadata": {},
   "outputs": [],
   "source": [
    "import numpy as np\n",
    "import pandas as pd\n",
    "import matplotlib.pyplot as plt\n",
    "from keras.layers import GRU, Bidirectional, Dropout, Input, TimeDistributed, BatchNormalization, Dense, Conv1D, Activation, UpSampling1D\n",
    "from keras.models import Model"
   ]
  },
  {
   "cell_type": "code",
   "execution_count": null,
   "metadata": {},
   "outputs": [],
   "source": [
    "class CRNN_segmenter:\n",
    "    def __init__(self, weights_path):\n",
    "        self.model = self.build_model((1000, 50))\n",
    "        self.model.load_weights(weights_path)\n",
    "        \n",
    "    def build_model(self, input_shape):\n",
    "        X_input = Input(shape=input_shape)\n",
    "        X = Conv1D(196, kernel_size=1, strides=1)(X_input)\n",
    "        X = BatchNormalization()(X)\n",
    "        X = Activation(\"relu\")(X)\n",
    "        X = Bidirectional(GRU(units = 256, return_sequences = True))(X)\n",
    "        X = BatchNormalization()(X)\n",
    "        X = UpSampling1D(5)(X)\n",
    "        X_output = TimeDistributed(Dense(1, activation = \"sigmoid\"))(X)\n",
    "\n",
    "        return Model(inputs=X_input, outputs=X_output)\n",
    "    \n",
    "    def pad(self, seq, max_length):\n",
    "        if seq.shape[0] < max_length:\n",
    "            seq = np.append(seq, [0] * (max_length - seq.shape[0]))\n",
    "        else:\n",
    "            seq = seq[:max_length]\n",
    "        return seq\n",
    "    \n",
    "    def to_spectral(self, x, samples):\n",
    "        xf = np.zeros((x.shape[0] // samples, samples))\n",
    "        for i in range(0, x.shape[0] - samples, samples):\n",
    "            w = abs(np.fft.fft(x[i:i+samples], n=samples*2))\n",
    "            freqs = np.fft.fftfreq(len(w))\n",
    "            xf[i//50, :] = w[freqs >= 0]\n",
    "        return xf\n",
    "    \n",
    "    def predict(self, wave, plot_result=False):\n",
    "        wave_xf = self.to_spectral(self.pad(wave.y, 50000), 50)\n",
    "        wave_xf = wave_xf.reshape(1, 1000, 50)\n",
    "        pred = self.model.predict(wave_xf)\n",
    "        diff = pred[0][1:]-pred[0][:-1]\n",
    "        onsets = np.where(diff>0.5)[0] * 10\n",
    "        \n",
    "        if plot_result:\n",
    "            plt.figure(figsize=(18,6))\n",
    "            plt.plot(3*self.pad(wave.y, 50000))\n",
    "            for onset in onsets:\n",
    "                plt.axvline(onset, color=\"r\")\n",
    "                \n",
    "        return onsets"
   ]
  }
 ],
 "metadata": {
  "kernelspec": {
   "display_name": "Python 3",
   "language": "python",
   "name": "python3"
  },
  "language_info": {
   "codemirror_mode": {
    "name": "ipython",
    "version": 3
   },
   "file_extension": ".py",
   "mimetype": "text/x-python",
   "name": "python",
   "nbconvert_exporter": "python",
   "pygments_lexer": "ipython3",
   "version": "3.7.3"
  }
 },
 "nbformat": 4,
 "nbformat_minor": 2
}
